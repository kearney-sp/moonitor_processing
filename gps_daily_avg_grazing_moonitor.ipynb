{
 "cells": [
  {
   "cell_type": "code",
   "execution_count": 12,
   "id": "3c6817ad-5500-436b-9f5f-8d2d9bbd2525",
   "metadata": {},
   "outputs": [],
   "source": [
    "import pandas as pd\n",
    "import numpy as np\n",
    "import os\n",
    "import re\n",
    "import glob"
   ]
  },
  {
   "cell_type": "code",
   "execution_count": 13,
   "id": "247107e7-4c3d-4dbf-b99f-d23a6ba5d4b6",
   "metadata": {},
   "outputs": [],
   "source": [
    "fDIR = './Moonitor_DailyMetrics/processed/'\n",
    "f_list = glob.glob(fDIR + '*_cleaned.csv')"
   ]
  },
  {
   "cell_type": "code",
   "execution_count": 15,
   "id": "1d685ffb-cbc7-402e-9782-8d66c4bbcc00",
   "metadata": {},
   "outputs": [
    {
     "name": "stdout",
     "output_type": "stream",
     "text": [
      "./Moonitor_DailyMetrics/processed/moonitor_gps_2019_D1_Q1_cleaned.csv\n"
     ]
    }
   ],
   "source": [
    "for f in f_list:\n",
    "    print(f)\n",
    "    df = pd.read_csv(f, engine='python', parse_dates=True)\n",
    "    df_daily_avg = df[df['bout_act'] == 'Grazing'].groupby(['date', 'Steer_ID']).mean()[['steplength', 'turnangle', 'moverate']]\n",
    "    df_daily_avg['bout_mins'] = df[df['bout_act'] == 'Grazing'].groupby(\n",
    "    ['date', 'Steer_ID', 'grazing_bout']).first()['bout_mins'].reset_index().groupby(\n",
    "    ['date', 'Steer_ID']).mean()['bout_mins']\n",
    "    df_daily_avg.to_csv(re.sub('cleaned.csv', 'daily_avg_grazing.csv', f))"
   ]
  },
  {
   "cell_type": "code",
   "execution_count": null,
   "id": "272a733b-afce-45ba-ad4a-70caf5c9c5ca",
   "metadata": {},
   "outputs": [],
   "source": []
  }
 ],
 "metadata": {
  "kernelspec": {
   "display_name": "Python 3 (ipykernel)",
   "language": "python",
   "name": "python3"
  },
  "language_info": {
   "codemirror_mode": {
    "name": "ipython",
    "version": 3
   },
   "file_extension": ".py",
   "mimetype": "text/x-python",
   "name": "python",
   "nbconvert_exporter": "python",
   "pygments_lexer": "ipython3",
   "version": "3.9.9"
  }
 },
 "nbformat": 4,
 "nbformat_minor": 5
}
