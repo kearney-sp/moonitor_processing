{
 "cells": [
  {
   "cell_type": "code",
   "execution_count": 1,
   "id": "159c4a8a-c4d9-46cd-9999-8d4ec3523137",
   "metadata": {},
   "outputs": [],
   "source": [
    "import pandas as pd\n",
    "import numpy as np\n",
    "import os\n",
    "import re\n",
    "import datetime\n",
    "import glob\n",
    "from tqdm.notebook import tqdm\n",
    "from sklearn.neighbors import BallTree\n",
    "from lotek.gps import calc_ta, calc_dist\n",
    "from lotek.conversion import shp2mask"
   ]
  },
  {
   "cell_type": "code",
   "execution_count": 27,
   "id": "511f82b7-044e-45ad-8671-83aa33c7d17b",
   "metadata": {},
   "outputs": [],
   "source": [
    "\"\"\"\n",
    "Define files to be used\n",
    "\"\"\"\n",
    "# CSV of GPS collar data\n",
    "#gps_f = 'C:/SPK_local/data/cattle_gps/Lotek/2017/TRMappended2017_GoodDays_TrackQ3.csv'\n",
    "inDIR = './Moonitor_DailyMetrics/12-2-2022/'\n",
    "outDIR = './Moonitor_DailyMetrics/processed'\n",
    "out_f = 'moonitor_gps_2019_D1_Q1.csv'"
   ]
  },
  {
   "cell_type": "code",
   "execution_count": 28,
   "id": "f5ee3d81-eaeb-4808-85e1-14df5b1ad988",
   "metadata": {},
   "outputs": [],
   "source": [
    "gps_f_LIST = glob.glob(inDIR + '*.csv')\n",
    "if not os.path.exists(outDIR):\n",
    "    os.mkdir(outDIR)"
   ]
  },
  {
   "cell_type": "code",
   "execution_count": 29,
   "id": "1a9169c9-31f8-47a3-82f6-33ec1fd7f771",
   "metadata": {},
   "outputs": [
    {
     "data": {
      "application/vnd.jupyter.widget-view+json": {
       "model_id": "d09aeaa4b5ae44c2909da87d154f371c",
       "version_major": 2,
       "version_minor": 0
      },
      "text/plain": [
       "  0%|          | 0/11 [00:00<?, ?it/s]"
      ]
     },
     "metadata": {},
     "output_type": "display_data"
    }
   ],
   "source": [
    "\"\"\"\n",
    "Read in GPS data and format\n",
    "\"\"\"\n",
    "# read data\n",
    "df_gps = pd.DataFrame()\n",
    "for f in tqdm(gps_f_LIST):\n",
    "    df_gps_tmp = pd.read_csv(f, engine='c', parse_dates=['DateTime', 'date'])\n",
    "    df_gps_tmp['date'] = df_gps_tmp['date'].dt.date\n",
    "    df_gps_tmp['Steer_ID'] = os.path.basename(f).split('_')[0]\n",
    "    df_gps = pd.concat([df_gps, df_gps_tmp])\n",
    "#df_gps = pd.read_csv(gps_f, engine='c')"
   ]
  },
  {
   "cell_type": "code",
   "execution_count": 30,
   "id": "2ab3b81f-d1a6-4fc1-8f22-66316a65d5e1",
   "metadata": {},
   "outputs": [
    {
     "data": {
      "text/plain": [
       "Unnamed: 0                int64\n",
       "DateTime         datetime64[ns]\n",
       "Lat                     float64\n",
       "Long                    float64\n",
       "date                     object\n",
       "time                     object\n",
       "rest                      int64\n",
       "graze                     int64\n",
       "walk                      int64\n",
       "sum                       int64\n",
       "timediff_mins             int64\n",
       "distprev                float64\n",
       "distnext                float64\n",
       "bearingprev             float64\n",
       "bearingnext             float64\n",
       "turnangle               float64\n",
       "UTM_X                   float64\n",
       "UTM_Y                   float64\n",
       "distAB                  float64\n",
       "distBC                  float64\n",
       "distAC                  float64\n",
       "turnangleUTM            float64\n",
       "PctGrz                  float64\n",
       "PctRest                 float64\n",
       "GrzBin                    int64\n",
       "velo_mpmin              float64\n",
       "velo_flag                 int64\n",
       "ta_flag                   int64\n",
       "veloflag2                 int64\n",
       "tot_flag                  int64\n",
       "DateTime_Char            object\n",
       "Steer_ID                 object\n",
       "dtype: object"
      ]
     },
     "execution_count": 30,
     "metadata": {},
     "output_type": "execute_result"
    }
   ],
   "source": [
    "df_gps.dtypes"
   ]
  },
  {
   "cell_type": "code",
   "execution_count": 31,
   "id": "a392c3bf-761d-4166-89fd-b1aef0f48aa4",
   "metadata": {},
   "outputs": [],
   "source": [
    "# fix column names as needed\n",
    "#col_remap_dict = {\n",
    "#    'Date_Time_Fix': 'Date_Time',\n",
    "#    'duration_check': 'duration'\n",
    "#}\n",
    "#df_gps = df_gps.rename(columns=col_remap_dict)\n",
    "\n",
    "# convert datetime strings to dates\n",
    "#df_gps['Fix_DateTime'] = pd.to_datetime(df_gps['date'].astype(str) + ' ' + df_gps['time'])\n",
    "#df_gps['Fix_Date'] = pd.to_datetime(df_gps['Fix_DateTime'].dt.date)\n",
    "\n",
    "# sort data by fix time for each steer\n",
    "df_gps = df_gps.groupby('Steer_ID').apply(lambda x: x.sort_values('DateTime')).reset_index(drop=True)\n",
    "\n",
    "# calculate the actual duration between fixes\n",
    "df_gps['Fix_Duration'] = df_gps.groupby('Steer_ID').apply(\n",
    "    lambda x: (x.DateTime - x.DateTime.shift(1)).astype(\"timedelta64[s]\")).reset_index()['DateTime'] / 60.0"
   ]
  },
  {
   "cell_type": "code",
   "execution_count": 32,
   "id": "8eea80ee-022f-4e78-9cfa-05f35cd72895",
   "metadata": {},
   "outputs": [],
   "source": [
    "\"\"\"\n",
    "Clean up data based on grazing hrs per day and missing fixes per day\n",
    "\"\"\"\n",
    "# define minimum and maximum grazing hours per day for removing days from GPS dataset\n",
    "hrs_min = 6\n",
    "hrs_max = 13\n",
    "\n",
    "# define maximum number of missing fixes allowed per day\n",
    "missing_max = 20"
   ]
  },
  {
   "cell_type": "code",
   "execution_count": 33,
   "id": "1172b017-b0de-4e14-921a-84f4495af7df",
   "metadata": {},
   "outputs": [
    {
     "data": {
      "application/vnd.jupyter.widget-view+json": {
       "model_id": "dc4ec3b59cb842c3a3e0e1de1673af08",
       "version_major": 2,
       "version_minor": 0
      },
      "text/plain": [
       "  0%|          | 0/224 [00:00<?, ?it/s]"
      ]
     },
     "metadata": {},
     "output_type": "display_data"
    }
   ],
   "source": [
    "\"\"\"\n",
    "Calculate movment stats at each GPS fix\n",
    "    turning angle (degrees): angle between previous, current and next fix, \n",
    "        converted to difference from straight line (0) with possible values ranging 0-180\n",
    "    step length (m): distance from previous to current fix\n",
    "    movement rate (m/min): distance (m) between previous and current fix divided by\n",
    "        time (mins) between previous and current fix\n",
    "\"\"\"\n",
    "\n",
    "# calculate the turning angle and distance at each fix for each day and each steer\n",
    "df_gps['steplength'] = np.nan\n",
    "df_gps['turnangle'] = np.nan\n",
    "for group in tqdm(df_gps.groupby(['Steer_ID', 'date'])):\n",
    "    group[1]['UTM_X_lag1'] = group[1]['UTM_X'].shift(1)\n",
    "    group[1]['UTM_Y_lag1'] = group[1]['UTM_Y'].shift(1)\n",
    "    group[1]['UTM_X_lead1'] = group[1]['UTM_X'].shift(-1)\n",
    "    group[1]['UTM_Y_lead1'] = group[1]['UTM_Y'].shift(-1)\n",
    "    a_list = list(group[1][['UTM_X_lag1', 'UTM_Y_lag1']].values)\n",
    "    b_list = list(group[1][['UTM_X', 'UTM_Y']].values)\n",
    "    c_list = list(group[1][['UTM_X_lead1', 'UTM_Y_lead1']].values)\n",
    "    dist_mask = ~(np.any(np.isnan(a_list), axis=1) |  np.any(np.isnan(b_list), axis=1))\n",
    "    sl_tmp = np.ones_like(dist_mask) * np.nan\n",
    "    sl_tmp[dist_mask] = calc_dist(np.array(list(map(tuple, a_list)))[dist_mask], \n",
    "                                  np.array(list(map(tuple, b_list)))[dist_mask]).squeeze()\n",
    "    df_gps.loc[(df_gps['Steer_ID'] == group[0][0]) & (df_gps['date'] == group[0][1]),\n",
    "               'steplength'] = sl_tmp\n",
    "    df_gps.loc[(df_gps['Steer_ID'] == group[0][0]) & (df_gps['date'] == group[0][1]),\n",
    "               'turnangle'] = calc_ta(a_list, b_list, c_list)\n",
    "\n",
    "# Calculate movement rate from distance and timestamp\n",
    "df_gps['moverate'] = df_gps['steplength'] / df_gps['Fix_Duration']"
   ]
  },
  {
   "cell_type": "code",
   "execution_count": 34,
   "id": "8b7ec241-bb7a-4b72-afdf-7d67a142c885",
   "metadata": {},
   "outputs": [],
   "source": [
    "\"\"\"\n",
    "Create flags for data to be removed/masked\n",
    "    * jump_flag: suspected jump based on movement rate > 42 m/min and turn angle > 120 degrees\n",
    "    * fast_flag: suspected error based on movement rate > 84 m/min\n",
    "    * missingfix_flag: flag for entire day’s fixes based on > 20 missing 5-min fixes for the day\n",
    "    * badfix_flag: flag indicating if any of the previous three flags exist. \n",
    "      This is used for calculating grazing hrs per day (if any of the previous three flags are present, the fix is not included when calculating grazing hours per day)\n",
    "    * grazinghrs_flag: flag for the entire day’s fixes based on grazing hours < 6 or > 13.\n",
    "\"\"\"\n",
    "# flag all locations suspected as jumps (movement rate > 42 m/min and turnangle > 120 degrees)\n",
    "jump_flag = (df_gps['moverate'] > 42) & (df_gps['turnangle'] > 120)\n",
    "df_gps['jump_flag'] = jump_flag.astype(int)\n",
    "\n",
    "# flag all locations with movement rate > 84 m/min while grazing\n",
    "fast_flag = (df_gps['moverate'] > 84) & (df_gps['GrzBin'] == 1)\n",
    "df_gps['fast_flag'] = fast_flag.astype(int)\n",
    "\n",
    "# flag all days with more than the maximum number of allowed missing fixes\n",
    "missingfix_flag = df_gps.groupby(['date', 'Steer_ID'])['GrzBin'].transform('count') < (24 * (60 / 5) - missing_max)\n",
    "df_gps['missingfix_flag'] = missingfix_flag.astype(int)\n",
    "\n",
    "# combine the three masks above to flag any data that should not be included when calculating grazing hours\n",
    "badfix_flag = jump_flag | fast_flag | missingfix_flag\n",
    "df_gps['badfix_flag'] = badfix_flag.astype(int)\n",
    "\n",
    "# calculate total time in hrs spent grazing daily\n",
    "df_gps['grazing_hrs'] = df_gps[~badfix_flag].groupby(['date', 'Steer_ID'])['GrzBin'].transform('sum') * 5 / 60\n",
    "\n",
    "# flag all days with less than 6 hrs and more than 13 hrs grazing\n",
    "grazehrs_flag = (df_gps['grazing_hrs'] < hrs_min) | (df_gps['grazing_hrs'] > hrs_max)\n",
    "df_gps['grazehrs_flag'] = grazehrs_flag.astype(int)"
   ]
  },
  {
   "cell_type": "code",
   "execution_count": 36,
   "id": "40f851ef-78e9-458d-a518-561a1674790c",
   "metadata": {},
   "outputs": [
    {
     "name": "stdout",
     "output_type": "stream",
     "text": [
      "--- Overall flags ---\n",
      "Jump flagged: 0.1%\n",
      "Fast fix flagged: 0.0%\n",
      "Missing fix flagged: 7.4%\n",
      "Grazing hrs flagged: 4.6%\n",
      "Total flagged: 12.1%\n"
     ]
    }
   ],
   "source": [
    "# Print the proportion of the full dataset that was removed during final cleaning \n",
    "print('--- Overall flags ---')\n",
    "print('Jump flagged: ' + str(round(100*sum(jump_flag)/len(df_gps), 1)) + '%')\n",
    "print('Fast fix flagged: ' + str(round(100*sum(fast_flag)/len(df_gps), 1)) + '%')\n",
    "print('Missing fix flagged: ' + str(round(100*sum(missingfix_flag)/len(df_gps), 1)) + '%')\n",
    "print('Grazing hrs flagged: ' + str(round(100*sum(grazehrs_flag)/len(df_gps), 1)) + '%')\n",
    "print('Total flagged: ' + str(round(100*sum((badfix_flag | grazehrs_flag))/len(df_gps), 1)) + '%')"
   ]
  },
  {
   "cell_type": "code",
   "execution_count": 23,
   "id": "c4b5ba6f-80e9-4d0f-9cee-fc2c0ac26863",
   "metadata": {},
   "outputs": [
    {
     "name": "stdout",
     "output_type": "stream",
     "text": [
      "--- Steer-level flags ---\n"
     ]
    },
    {
     "data": {
      "text/plain": [
       "Steer_ID\n",
       "d03    0.060800\n",
       "d04    0.076065\n",
       "d06    0.141523\n",
       "d10    0.067422\n",
       "d14    0.063937\n",
       "d15    0.062478\n",
       "d17    0.062774\n",
       "d18    0.069379\n",
       "d19    0.111983\n",
       "d24    0.064060\n",
       "d26    0.065031\n",
       "dtype: float64"
      ]
     },
     "execution_count": 23,
     "metadata": {},
     "output_type": "execute_result"
    }
   ],
   "source": [
    "print('--- Steer-level flags ---')\n",
    "df_gps.groupby('Steer_ID').apply(lambda x: x['missingfix_flag'].sum()/x['missingfix_flag'].count())"
   ]
  },
  {
   "cell_type": "code",
   "execution_count": 24,
   "id": "91d5b71b-a197-4084-abd5-c602019110e8",
   "metadata": {},
   "outputs": [],
   "source": [
    "\"\"\"\n",
    "Save a copy of the data to .csv that retains all data and flags\n",
    "\"\"\"\n",
    "# copy data\n",
    "df_gps_flagged = df_gps.copy()\n",
    "# write to .csv with suffix '_flagged'\n",
    "df_gps_flagged.to_csv(os.path.join(outDIR, re.sub('.csv', '_flagged.csv', out_f)), index=False)\n",
    "\n",
    "# remove all flagged data from the final cleaned dataset\n",
    "df_gps = df_gps[~(badfix_flag | grazehrs_flag)].copy()"
   ]
  },
  {
   "cell_type": "code",
   "execution_count": 25,
   "id": "9e6d24ac-9bf4-4ef0-9ee6-4a6afa01bac0",
   "metadata": {},
   "outputs": [],
   "source": [
    "\"\"\"\n",
    "Create activity bouts and daily activity budgets from the cleaed data\n",
    "\"\"\"\n",
    "# change bouts when grazing activity changes, unless the two fixes before and two fixes after are the same\n",
    "# in detail: change to new bout if:\n",
    "#   * activity is not the same as the previous row\n",
    "#   * AND activity is the same as one of the next two rows\n",
    "#   * AND activitiy is not the same as one of the two rows after it\n",
    "#   * NOTE: this only works for bouts of 4+ fixes. We manually classify bouts <= 3 fixes as 'Transition' bout\n",
    "df_gps['grazing_bout'] = df_gps.groupby(['date', 'Steer_ID'])['GrzBin'].apply(\n",
    "    lambda x: (((x != x.shift(1)) &\n",
    "                ((x == x.shift(-1)) | (x == x.shift(-2))) & \n",
    "                ((x != x.shift(2)) | (x != x.shift(3))))).cumsum())\n",
    "\n",
    "# calculate duration of each bout in minutes\n",
    "df_gps['bout_mins'] = df_gps.groupby(['date', \n",
    "                                      'Steer_ID', \n",
    "                                      'grazing_bout'])['DateTime'].transform(lambda x: (x.max() - x.min()).seconds/60 + 5.0)\n",
    "\n",
    "# calculate the majority grazing activity for each bout to calculate bout activity\n",
    "df_gps['bout_maj'] = df_gps.groupby(['date', \n",
    "                                     'Steer_ID', \n",
    "                                     'grazing_bout'])['GrzBin'].transform(lambda x: x.value_counts().index[0])\n",
    "\n",
    "# create a bout activity column\n",
    "bout_act_dict = {0: 'Nongrazing',\n",
    "                1: 'Grazing'}\n",
    "df_gps['bout_act'] = df_gps['bout_maj'].apply(lambda x: bout_act_dict[x])\n",
    "df_gps.loc[df_gps['bout_mins'] < 20, 'bout_act'] = 'Transition'\n",
    "\n",
    "# calculate the number of bouts per day in each activity\n",
    "df_gps['act_bout_ct_daily'] = df_gps.groupby(['date', \n",
    "                                              'Steer_ID',\n",
    "                                              'bout_act'])['grazing_bout'].transform('nunique')\n",
    "\n",
    "# calculate grazing activity budgets for each day and steer\n",
    "df_gps['act_budget_daily'] = df_gps.groupby(['date', \n",
    "                                             'Steer_ID',\n",
    "                                             'bout_act'])['bout_mins'].transform('sum') / df_gps.groupby(['date',\n",
    "                                                                                                          'Steer_ID'])['bout_mins'].transform('sum')"
   ]
  },
  {
   "cell_type": "code",
   "execution_count": 26,
   "id": "7dba74bd-6920-4f17-b50f-5afd376d0bd2",
   "metadata": {},
   "outputs": [],
   "source": [
    "# Write data to .csv with the suffix '_cleaned.csv'\n",
    "df_gps.to_csv(os.path.join(outDIR, re.sub('.csv', '_cleaned.csv', out_f)), index=False)"
   ]
  },
  {
   "cell_type": "code",
   "execution_count": null,
   "id": "6df72e05-1b55-4993-975e-d0c682244041",
   "metadata": {},
   "outputs": [],
   "source": []
  }
 ],
 "metadata": {
  "kernelspec": {
   "display_name": "Python 3 (ipykernel)",
   "language": "python",
   "name": "python3"
  },
  "language_info": {
   "codemirror_mode": {
    "name": "ipython",
    "version": 3
   },
   "file_extension": ".py",
   "mimetype": "text/x-python",
   "name": "python",
   "nbconvert_exporter": "python",
   "pygments_lexer": "ipython3",
   "version": "3.9.9"
  }
 },
 "nbformat": 4,
 "nbformat_minor": 5
}
